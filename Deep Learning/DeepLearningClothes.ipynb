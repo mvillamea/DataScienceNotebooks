{
  "nbformat": 4,
  "nbformat_minor": 0,
  "metadata": {
    "colab": {
      "name": "DeepLearningClothes.ipynb",
      "provenance": [],
      "collapsed_sections": []
    },
    "kernelspec": {
      "name": "python3",
      "display_name": "Python 3"
    }
  },
  "cells": [
    {
      "cell_type": "code",
      "metadata": {
        "colab": {
          "base_uri": "https://localhost:8080/"
        },
        "id": "QqDmhq4py73_",
        "outputId": "4be0d739-3ceb-4006-a09a-3f20ee8f32e6"
      },
      "source": [
        "!pip install emoji"
      ],
      "execution_count": null,
      "outputs": [
        {
          "output_type": "stream",
          "text": [
            "Collecting emoji\n",
            "\u001b[?25l  Downloading https://files.pythonhosted.org/packages/ff/1c/1f1457fe52d0b30cbeebfd578483cedb3e3619108d2d5a21380dfecf8ffd/emoji-0.6.0.tar.gz (51kB)\n",
            "\r\u001b[K     |██████▍                         | 10kB 14.0MB/s eta 0:00:01\r\u001b[K     |████████████▉                   | 20kB 18.4MB/s eta 0:00:01\r\u001b[K     |███████████████████▎            | 30kB 11.9MB/s eta 0:00:01\r\u001b[K     |█████████████████████████▊      | 40kB 9.8MB/s eta 0:00:01\r\u001b[K     |████████████████████████████████| 51kB 3.0MB/s \n",
            "\u001b[?25hBuilding wheels for collected packages: emoji\n",
            "  Building wheel for emoji (setup.py) ... \u001b[?25l\u001b[?25hdone\n",
            "  Created wheel for emoji: filename=emoji-0.6.0-cp36-none-any.whl size=49717 sha256=1b8c68c3d57b108fbb17d476b915cb222a6c5176795c6a45496250b620fde6fc\n",
            "  Stored in directory: /root/.cache/pip/wheels/46/2c/8b/9dcf5216ca68e14e0320e283692dce8ae321cdc01e73e17796\n",
            "Successfully built emoji\n",
            "Installing collected packages: emoji\n",
            "Successfully installed emoji-0.6.0\n"
          ],
          "name": "stdout"
        }
      ]
    },
    {
      "cell_type": "code",
      "metadata": {
        "id": "Nsdv1IePzT-r"
      },
      "source": [
        "import emoji"
      ],
      "execution_count": null,
      "outputs": []
    },
    {
      "cell_type": "markdown",
      "metadata": {
        "id": "NMIAWYcszaPt"
      },
      "source": [
        " <font size=5.5> 👚 👕 **Prendas de Indumentaria** 👗 👜 </font>"
      ]
    },
    {
      "cell_type": "markdown",
      "metadata": {
        "id": "o8J0xwOP0UWp"
      },
      "source": [
        "Utilizando redes neuronales, se quiere crear un modelo que prediga 10 clases, las cuales son imágenes de prendas de indumentaria.\n",
        "<br/>\n",
        "El dataset a utilizar será **Fashion-MNIST** que está ya incluído en la librería *Keras*."
      ]
    },
    {
      "cell_type": "code",
      "metadata": {
        "id": "R8-XMDlF04Nh"
      },
      "source": [
        "#Importamos las librerías necesarias\n",
        "import tensorflow as tf\n",
        "import tensorflow.keras as keras"
      ],
      "execution_count": null,
      "outputs": []
    },
    {
      "cell_type": "code",
      "metadata": {
        "colab": {
          "base_uri": "https://localhost:8080/"
        },
        "id": "0nz3W-Ys1U5g",
        "outputId": "b780485b-fb0d-4605-c681-2128ca907f41"
      },
      "source": [
        "#Cargamos los datos ya divididos entre train y test set\n",
        "(x_train, y_train), (x_test, y_test)=keras.datasets.fashion_mnist.load_data()"
      ],
      "execution_count": null,
      "outputs": [
        {
          "output_type": "stream",
          "text": [
            "Downloading data from https://storage.googleapis.com/tensorflow/tf-keras-datasets/train-labels-idx1-ubyte.gz\n",
            "32768/29515 [=================================] - 0s 0us/step\n",
            "Downloading data from https://storage.googleapis.com/tensorflow/tf-keras-datasets/train-images-idx3-ubyte.gz\n",
            "26427392/26421880 [==============================] - 0s 0us/step\n",
            "Downloading data from https://storage.googleapis.com/tensorflow/tf-keras-datasets/t10k-labels-idx1-ubyte.gz\n",
            "8192/5148 [===============================================] - 0s 0us/step\n",
            "Downloading data from https://storage.googleapis.com/tensorflow/tf-keras-datasets/t10k-images-idx3-ubyte.gz\n",
            "4423680/4422102 [==============================] - 0s 0us/step\n"
          ],
          "name": "stdout"
        }
      ]
    },
    {
      "cell_type": "code",
      "metadata": {
        "colab": {
          "base_uri": "https://localhost:8080/",
          "height": 282
        },
        "id": "ykkgHKMO1oZJ",
        "outputId": "1c2f816b-c458-49bc-f1de-7fc6b40dadf2"
      },
      "source": [
        "#Observamos algunos de los elementos del dataset\n",
        "import matplotlib.pyplot as plt\n",
        "\n",
        "plt.imshow(x_train[1], cmap='gray', interpolation='none')"
      ],
      "execution_count": null,
      "outputs": [
        {
          "output_type": "execute_result",
          "data": {
            "text/plain": [
              "<matplotlib.image.AxesImage at 0x7fa53c311278>"
            ]
          },
          "metadata": {
            "tags": []
          },
          "execution_count": 8
        },
        {
          "output_type": "display_data",
          "data": {
            "image/png": "[encoded data removed]",
            "text/plain": [
              "<Figure size 432x288 with 1 Axes>"
            ]
          },
          "metadata": {
            "tags": [],
            "needs_background": "light"
          }
        }
      ]
    },
    {
      "cell_type": "code",
      "metadata": {
        "colab": {
          "base_uri": "https://localhost:8080/",
          "height": 282
        },
        "id": "hnSm5YkA17vc",
        "outputId": "4a660524-8c8a-48ca-a589-10ee4f59f21d"
      },
      "source": [
        "plt.imshow(x_train[5], cmap='gray', interpolation='none')"
      ],
      "execution_count": null,
      "outputs": [
        {
          "output_type": "execute_result",
          "data": {
            "text/plain": [
              "<matplotlib.image.AxesImage at 0x7fa53c26f828>"
            ]
          },
          "metadata": {
            "tags": []
          },
          "execution_count": 9
        },
        {
          "output_type": "display_data",
          "data": {
            "image/png": "[encoded data removed]",
            "text/plain": [
              "<Figure size 432x288 with 1 Axes>"
            ]
          },
          "metadata": {
            "tags": [],
            "needs_background": "light"
          }
        }
      ]
    },
    {
      "cell_type": "code",
      "metadata": {
        "colab": {
          "base_uri": "https://localhost:8080/"
        },
        "id": "zKJfXNxR4JjN",
        "outputId": "c345997b-725e-4f2b-d29c-627bca0648d4"
      },
      "source": [
        "#observamos las dimensiones del dataset\n",
        "x_train.shape"
      ],
      "execution_count": null,
      "outputs": [
        {
          "output_type": "execute_result",
          "data": {
            "text/plain": [
              "(60000, 28, 28)"
            ]
          },
          "metadata": {
            "tags": []
          },
          "execution_count": 10
        }
      ]
    },
    {
      "cell_type": "code",
      "metadata": {
        "colab": {
          "base_uri": "https://localhost:8080/"
        },
        "id": "Wp8J1Xe54N86",
        "outputId": "7deb0098-0f6a-4b60-b20b-bb3b24252060"
      },
      "source": [
        "#dimensión de cada elemento del dataset\n",
        "x_train[0].shape"
      ],
      "execution_count": null,
      "outputs": [
        {
          "output_type": "execute_result",
          "data": {
            "text/plain": [
              "(28, 28)"
            ]
          },
          "metadata": {
            "tags": []
          },
          "execution_count": 12
        }
      ]
    },
    {
      "cell_type": "markdown",
      "metadata": {
        "id": "pfoMSpq04arO"
      },
      "source": [
        " <font size=5>  **Creación del modelo 1** </font>"
      ]
    },
    {
      "cell_type": "code",
      "metadata": {
        "id": "cgifeeR14mnO"
      },
      "source": [
        "#Importamos las librerías\n",
        "from keras import Sequential\n",
        "from keras.layers import Dense, Flatten\n",
        "\n",
        "#Definimos el modelo\n",
        "model = keras.Sequential([\n",
        "    Flatten(input_shape=(28, 28)), #Flatten para convertir matrices a vectores \n",
        "    Dense(128, activation='relu'),\n",
        "    Dense(10, activation='softmax')\n",
        "])"
      ],
      "execution_count": null,
      "outputs": []
    },
    {
      "cell_type": "code",
      "metadata": {
        "colab": {
          "base_uri": "https://localhost:8080/"
        },
        "id": "GWDsfN0u5A5V",
        "outputId": "8a9b2105-b693-47ca-86db-2aa7ae809160"
      },
      "source": [
        "#Vemos cómo quedó definido el modelo\n",
        "model.summary()"
      ],
      "execution_count": null,
      "outputs": [
        {
          "output_type": "stream",
          "text": [
            "Model: \"sequential\"\n",
            "_________________________________________________________________\n",
            "Layer (type)                 Output Shape              Param #   \n",
            "=================================================================\n",
            "flatten (Flatten)            (None, 784)               0         \n",
            "_________________________________________________________________\n",
            "dense (Dense)                (None, 128)               100480    \n",
            "_________________________________________________________________\n",
            "dense_1 (Dense)              (None, 10)                1290      \n",
            "=================================================================\n",
            "Total params: 101,770\n",
            "Trainable params: 101,770\n",
            "Non-trainable params: 0\n",
            "_________________________________________________________________\n"
          ],
          "name": "stdout"
        }
      ]
    },
    {
      "cell_type": "code",
      "metadata": {
        "id": "RjrnyJwN5Lsi"
      },
      "source": [
        "#Compilamos\n",
        "model.compile(optimizer=\"adam\",\n",
        "              loss='sparse_categorical_crossentropy', \n",
        "              metrics=['accuracy'])"
      ],
      "execution_count": null,
      "outputs": []
    },
    {
      "cell_type": "code",
      "metadata": {
        "colab": {
          "base_uri": "https://localhost:8080/"
        },
        "id": "rd8cD4L85ULR",
        "outputId": "9d8876e5-1fc1-4ccb-d450-77b8c4a42e69"
      },
      "source": [
        "#Entrenamos\n",
        "history = model.fit(x_train, y_train, epochs=10, batch_size=64, validation_split=0.2)"
      ],
      "execution_count": null,
      "outputs": [
        {
          "output_type": "stream",
          "text": [
            "Epoch 1/10\n",
            "750/750 [==============================] - 3s 3ms/step - loss: 19.8605 - accuracy: 0.6564 - val_loss: 0.9479 - val_accuracy: 0.7119\n",
            "Epoch 2/10\n",
            "750/750 [==============================] - 2s 3ms/step - loss: 0.8225 - accuracy: 0.7243 - val_loss: 0.6932 - val_accuracy: 0.7794\n",
            "Epoch 3/10\n",
            "750/750 [==============================] - 2s 3ms/step - loss: 0.6261 - accuracy: 0.7772 - val_loss: 0.6472 - val_accuracy: 0.8064\n",
            "Epoch 4/10\n",
            "750/750 [==============================] - 2s 3ms/step - loss: 0.5683 - accuracy: 0.7998 - val_loss: 0.6195 - val_accuracy: 0.8148\n",
            "Epoch 5/10\n",
            "750/750 [==============================] - 2s 3ms/step - loss: 0.5266 - accuracy: 0.8152 - val_loss: 0.6132 - val_accuracy: 0.7995\n",
            "Epoch 6/10\n",
            "750/750 [==============================] - 2s 3ms/step - loss: 0.5142 - accuracy: 0.8239 - val_loss: 0.5208 - val_accuracy: 0.8259\n",
            "Epoch 7/10\n",
            "750/750 [==============================] - 2s 3ms/step - loss: 0.4726 - accuracy: 0.8351 - val_loss: 0.5276 - val_accuracy: 0.8276\n",
            "Epoch 8/10\n",
            "750/750 [==============================] - 2s 3ms/step - loss: 0.4726 - accuracy: 0.8370 - val_loss: 0.4743 - val_accuracy: 0.8369\n",
            "Epoch 9/10\n",
            "750/750 [==============================] - 2s 3ms/step - loss: 0.4495 - accuracy: 0.8438 - val_loss: 0.5147 - val_accuracy: 0.8175\n",
            "Epoch 10/10\n",
            "750/750 [==============================] - 2s 3ms/step - loss: 0.4197 - accuracy: 0.8527 - val_loss: 0.6189 - val_accuracy: 0.8142\n"
          ],
          "name": "stdout"
        }
      ]
    },
    {
      "cell_type": "markdown",
      "metadata": {
        "id": "7ekDL6L_5iGr"
      },
      "source": [
        " <font size=5>  **Evaluación del modelo 1** </font>"
      ]
    },
    {
      "cell_type": "code",
      "metadata": {
        "colab": {
          "base_uri": "https://localhost:8080/"
        },
        "id": "jJWgKWbK5nSy",
        "outputId": "34f45000-66b3-46a9-ac63-02ab3e9754fe"
      },
      "source": [
        "results = model.evaluate(x_test, y_test, batch_size=64)"
      ],
      "execution_count": null,
      "outputs": [
        {
          "output_type": "stream",
          "text": [
            "157/157 [==============================] - 0s 1ms/step - loss: 0.6503 - accuracy: 0.8040\n"
          ],
          "name": "stdout"
        }
      ]
    },
    {
      "cell_type": "code",
      "metadata": {
        "colab": {
          "base_uri": "https://localhost:8080/",
          "height": 573
        },
        "id": "TQWsqwEt5166",
        "outputId": "8fbef2c4-2bf2-43e3-a286-c75252d2ea92"
      },
      "source": [
        "plt.plot(history.history['accuracy'])\n",
        "plt.plot(history.history['val_accuracy'])\n",
        "plt.title('Model accuracy')\n",
        "plt.ylabel('Accuracy')\n",
        "plt.xlabel('Epoch')\n",
        "plt.legend(['Accuracy', 'Val_Accuracy'], loc='upper left')\n",
        "plt.show()\n",
        "\n",
        "\n",
        "plt.plot(history.history['loss'])\n",
        "plt.plot(history.history['val_loss'])\n",
        "plt.title('Model loss')\n",
        "plt.ylabel('Loss')\n",
        "plt.xlabel('Epoch')\n",
        "plt.legend(['Loss', 'Val_Loss'], loc='upper left')\n",
        "plt.show()"
      ],
      "execution_count": null,
      "outputs": [
        {
          "output_type": "display_data",
          "data": {
            "image/png": "[encoded data removed]",
            "text/plain": [
              "<Figure size 432x288 with 1 Axes>"
            ]
          },
          "metadata": {
            "tags": [],
            "needs_background": "light"
          }
        },
        {
          "output_type": "display_data",
          "data": {
            "image/png": "[encoded data removed]",
            "text/plain": [
              "<Figure size 432x288 with 1 Axes>"
            ]
          },
          "metadata": {
            "tags": [],
            "needs_background": "light"
          }
        }
      ]
    },
    {
      "cell_type": "markdown",
      "metadata": {
        "id": "xRcYSnr46HO0"
      },
      "source": [
        "Claramente el modelo se puede mejorar.\n",
        "<br/>\n",
        "Por el model accuracy podríamos pensar en entrenar solo hasta la 3ra época y por el model loss hasta la 2da época."
      ]
    },
    {
      "cell_type": "markdown",
      "metadata": {
        "id": "OrvQv4Yk6K-q"
      },
      "source": [
        " <font size=5>  **Creación del modelo 2** </font>"
      ]
    },
    {
      "cell_type": "code",
      "metadata": {
        "id": "HeRB9u2A6fX6"
      },
      "source": [
        "#Definimos el modelo 2 igual al modelo 1\n",
        "model2 = keras.Sequential([\n",
        "    Flatten(input_shape=(28, 28)), #Flatten para convertir matrices a vectores \n",
        "    Dense(128, activation='relu'),\n",
        "    Dense(10, activation='softmax')\n",
        "])"
      ],
      "execution_count": null,
      "outputs": []
    },
    {
      "cell_type": "code",
      "metadata": {
        "id": "f3yIEwZL60q6"
      },
      "source": [
        "#Compilamos\n",
        "model2.compile(optimizer=\"adam\",\n",
        "              loss='sparse_categorical_crossentropy', \n",
        "              metrics=['accuracy'])"
      ],
      "execution_count": null,
      "outputs": []
    },
    {
      "cell_type": "code",
      "metadata": {
        "colab": {
          "base_uri": "https://localhost:8080/"
        },
        "id": "ZWjQnji77AXF",
        "outputId": "d07b88c4-4ca2-4e8e-88d0-e84839dd75af"
      },
      "source": [
        "#Entrenamos pero solo hasta la 2da época\n",
        "history = model2.fit(x_train, y_train, epochs=2, batch_size=64, validation_split=0.2)"
      ],
      "execution_count": null,
      "outputs": [
        {
          "output_type": "stream",
          "text": [
            "Epoch 1/2\n",
            "750/750 [==============================] - 2s 3ms/step - loss: 0.5383 - accuracy: 0.8043 - val_loss: 0.5617 - val_accuracy: 0.8122\n",
            "Epoch 2/2\n",
            "750/750 [==============================] - 2s 3ms/step - loss: 0.5035 - accuracy: 0.8212 - val_loss: 0.5255 - val_accuracy: 0.8217\n"
          ],
          "name": "stdout"
        }
      ]
    },
    {
      "cell_type": "markdown",
      "metadata": {
        "id": "3ea769ju7nZB"
      },
      "source": [
        " <font size=5>  **Evaluación del modelo 2** </font>"
      ]
    },
    {
      "cell_type": "code",
      "metadata": {
        "colab": {
          "base_uri": "https://localhost:8080/"
        },
        "id": "K2Z0phML7pIZ",
        "outputId": "0ffb4f94-9815-41b5-f570-96707eee5925"
      },
      "source": [
        "results = model2.evaluate(x_test, y_test, batch_size=64)"
      ],
      "execution_count": null,
      "outputs": [
        {
          "output_type": "stream",
          "text": [
            "157/157 [==============================] - 0s 1ms/step - loss: 0.5496 - accuracy: 0.8124\n"
          ],
          "name": "stdout"
        }
      ]
    },
    {
      "cell_type": "code",
      "metadata": {
        "colab": {
          "base_uri": "https://localhost:8080/",
          "height": 573
        },
        "id": "DYXCHuhG8G7U",
        "outputId": "d74aaea7-ef62-47fd-b680-3c222878cab4"
      },
      "source": [
        "plt.plot(history.history['accuracy'])\n",
        "plt.plot(history.history['val_accuracy'])\n",
        "plt.title('Model accuracy')\n",
        "plt.ylabel('Accuracy')\n",
        "plt.xlabel('Epoch')\n",
        "plt.legend(['Accuracy', 'Val_Accuracy'], loc='upper left')\n",
        "plt.show()\n",
        "\n",
        "\n",
        "plt.plot(history.history['loss'])\n",
        "plt.plot(history.history['val_loss'])\n",
        "plt.title('Model loss')\n",
        "plt.ylabel('Loss')\n",
        "plt.xlabel('Epoch')\n",
        "plt.legend(['Loss', 'Val_Loss'], loc='upper left')\n",
        "plt.show()"
      ],
      "execution_count": null,
      "outputs": [
        {
          "output_type": "display_data",
          "data": {
            "image/png": "[encoded data removed]",
            "text/plain": [
              "<Figure size 432x288 with 1 Axes>"
            ]
          },
          "metadata": {
            "tags": [],
            "needs_background": "light"
          }
        },
        {
          "output_type": "display_data",
          "data": {
            "image/png": "[encoded data removed]",
            "text/plain": [
              "<Figure size 432x288 with 1 Axes>"
            ]
          },
          "metadata": {
            "tags": [],
            "needs_background": "light"
          }
        }
      ]
    },
    {
      "cell_type": "markdown",
      "metadata": {
        "id": "VmoVVVOa8NAn"
      },
      "source": [
        "El modelo 2 es mejor que el modelo 1.\n",
        "<br/>\n",
        "Probemos ahora un 3er modelo agregando más capas."
      ]
    },
    {
      "cell_type": "markdown",
      "metadata": {
        "id": "LcYHaHod8Uba"
      },
      "source": [
        " <font size=5>  **Creación del modelo 3** </font>"
      ]
    },
    {
      "cell_type": "code",
      "metadata": {
        "id": "p0naOg-Q8ZOl"
      },
      "source": [
        "#Definimos el modelo 3\n",
        "model3 = keras.Sequential([\n",
        "    Flatten(input_shape=(28, 28)), #Flatten para convertir matrices a vectores \n",
        "    Dense(270, activation='relu'),\n",
        "    Dense(128, activation='relu'),\n",
        "    Dense(10, activation='softmax')\n",
        "])"
      ],
      "execution_count": null,
      "outputs": []
    },
    {
      "cell_type": "code",
      "metadata": {
        "id": "Kw8h8YaR8i4Y"
      },
      "source": [
        "#Compilamos\n",
        "model3.compile(optimizer=\"adam\",\n",
        "              loss='sparse_categorical_crossentropy', \n",
        "              metrics=['accuracy'])"
      ],
      "execution_count": null,
      "outputs": []
    },
    {
      "cell_type": "code",
      "metadata": {
        "colab": {
          "base_uri": "https://localhost:8080/"
        },
        "id": "7Vizcrwb8oKR",
        "outputId": "2604fd47-d6e8-410c-9a7c-9c57d03c535b"
      },
      "source": [
        "#Entrenamos \n",
        "history3 = model3.fit(x_train, y_train, epochs=10, batch_size=64, validation_split=0.2)"
      ],
      "execution_count": null,
      "outputs": [
        {
          "output_type": "stream",
          "text": [
            "Epoch 1/10\n",
            "750/750 [==============================] - 4s 5ms/step - loss: 10.4066 - accuracy: 0.7092 - val_loss: 0.9295 - val_accuracy: 0.7883\n",
            "Epoch 2/10\n",
            "750/750 [==============================] - 4s 5ms/step - loss: 0.6975 - accuracy: 0.8107 - val_loss: 0.5502 - val_accuracy: 0.8298\n",
            "Epoch 3/10\n",
            "750/750 [==============================] - 4s 5ms/step - loss: 0.4853 - accuracy: 0.8377 - val_loss: 0.5223 - val_accuracy: 0.8317\n",
            "Epoch 4/10\n",
            "750/750 [==============================] - 3s 5ms/step - loss: 0.4272 - accuracy: 0.8496 - val_loss: 0.4912 - val_accuracy: 0.8360\n",
            "Epoch 5/10\n",
            "750/750 [==============================] - 3s 5ms/step - loss: 0.4063 - accuracy: 0.8544 - val_loss: 0.4533 - val_accuracy: 0.8474\n",
            "Epoch 6/10\n",
            "750/750 [==============================] - 3s 5ms/step - loss: 0.4059 - accuracy: 0.8570 - val_loss: 0.4620 - val_accuracy: 0.8531\n",
            "Epoch 7/10\n",
            "750/750 [==============================] - 4s 5ms/step - loss: 0.3910 - accuracy: 0.8580 - val_loss: 0.4355 - val_accuracy: 0.8579\n",
            "Epoch 8/10\n",
            "750/750 [==============================] - 4s 5ms/step - loss: 0.3721 - accuracy: 0.8676 - val_loss: 0.4153 - val_accuracy: 0.8556\n",
            "Epoch 9/10\n",
            "750/750 [==============================] - 4s 5ms/step - loss: 0.3474 - accuracy: 0.8749 - val_loss: 0.4037 - val_accuracy: 0.8629\n",
            "Epoch 10/10\n",
            "750/750 [==============================] - 3s 4ms/step - loss: 0.3499 - accuracy: 0.8747 - val_loss: 0.4160 - val_accuracy: 0.8628\n"
          ],
          "name": "stdout"
        }
      ]
    },
    {
      "cell_type": "markdown",
      "metadata": {
        "id": "L465CuqP8_J1"
      },
      "source": [
        " <font size=5>  **Evaluación del modelo 3** </font>"
      ]
    },
    {
      "cell_type": "code",
      "metadata": {
        "colab": {
          "base_uri": "https://localhost:8080/"
        },
        "id": "qkKvXncW9C2F",
        "outputId": "29d0ece3-d1d0-4b3f-b707-bfcc37206f7a"
      },
      "source": [
        "results3 = model3.evaluate(x_test, y_test, batch_size=64)"
      ],
      "execution_count": null,
      "outputs": [
        {
          "output_type": "stream",
          "text": [
            "157/157 [==============================] - 0s 2ms/step - loss: 0.4602 - accuracy: 0.8538\n"
          ],
          "name": "stdout"
        }
      ]
    },
    {
      "cell_type": "code",
      "metadata": {
        "colab": {
          "base_uri": "https://localhost:8080/",
          "height": 573
        },
        "id": "zQvc4zNZ9IjM",
        "outputId": "27710285-be21-439f-d5eb-cdf3903a01fc"
      },
      "source": [
        "plt.plot(history3.history['accuracy'])\n",
        "plt.plot(history3.history['val_accuracy'])\n",
        "plt.title('Model accuracy')\n",
        "plt.ylabel('Accuracy')\n",
        "plt.xlabel('Epoch')\n",
        "plt.legend(['Accuracy', 'Val_Accuracy'], loc='upper left')\n",
        "plt.show()\n",
        "\n",
        "\n",
        "plt.plot(history3.history['loss'])\n",
        "plt.plot(history3.history['val_loss'])\n",
        "plt.title('Model loss')\n",
        "plt.ylabel('Loss')\n",
        "plt.xlabel('Epoch')\n",
        "plt.legend(['Loss', 'Val_Loss'], loc='upper left')\n",
        "plt.show()"
      ],
      "execution_count": null,
      "outputs": [
        {
          "output_type": "display_data",
          "data": {
            "image/png": "[encoded data removed]",
            "text/plain": [
              "<Figure size 432x288 with 1 Axes>"
            ]
          },
          "metadata": {
            "tags": [],
            "needs_background": "light"
          }
        },
        {
          "output_type": "display_data",
          "data": {
            "image/png": "[encoded data removed]",
            "text/plain": [
              "<Figure size 432x288 with 1 Axes>"
            ]
          },
          "metadata": {
            "tags": [],
            "needs_background": "light"
          }
        }
      ]
    },
    {
      "cell_type": "markdown",
      "metadata": {
        "id": "faQA0ssT9Z5J"
      },
      "source": [
        "Mejoró notablemente la accuracy en este modelo.\n",
        "Nuevamente parece que sería una buena idea tomar hasta la 2da época.\n",
        "Creemos un último modelo haciendo ese cambio."
      ]
    },
    {
      "cell_type": "markdown",
      "metadata": {
        "id": "oWiG8i4P9mnk"
      },
      "source": [
        " <font size=5>  **Creación del modelo 4** </font>\n"
      ]
    },
    {
      "cell_type": "code",
      "metadata": {
        "id": "SmNXWORI9ucL"
      },
      "source": [
        "#Definimos el modelo 4\n",
        "model4 = keras.Sequential([\n",
        "    Flatten(input_shape=(28, 28)), #Flatten para convertir matrices a vectores \n",
        "    Dense(270, activation='relu'),\n",
        "    Dense(128, activation='relu'),\n",
        "    Dense(10, activation='softmax')\n",
        "])"
      ],
      "execution_count": null,
      "outputs": []
    },
    {
      "cell_type": "code",
      "metadata": {
        "id": "XAURaftf91Do"
      },
      "source": [
        "#Compilamos\n",
        "model4.compile(optimizer=\"adam\",\n",
        "              loss='sparse_categorical_crossentropy', \n",
        "              metrics=['accuracy'])"
      ],
      "execution_count": null,
      "outputs": []
    },
    {
      "cell_type": "code",
      "metadata": {
        "colab": {
          "base_uri": "https://localhost:8080/"
        },
        "id": "syS-kkgW944A",
        "outputId": "74d8574c-275e-4e35-bdc8-d54ce4103f49"
      },
      "source": [
        "#Entrenamos hasta la 2da época\n",
        "history4 = model4.fit(x_train, y_train, epochs=2, batch_size=64, validation_split=0.2)"
      ],
      "execution_count": null,
      "outputs": [
        {
          "output_type": "stream",
          "text": [
            "Epoch 1/2\n",
            "750/750 [==============================] - 4s 5ms/step - loss: 0.4099 - accuracy: 0.8561 - val_loss: 0.4298 - val_accuracy: 0.8501\n",
            "Epoch 2/2\n",
            "750/750 [==============================] - 4s 5ms/step - loss: 0.3989 - accuracy: 0.8605 - val_loss: 0.5130 - val_accuracy: 0.8338\n"
          ],
          "name": "stdout"
        }
      ]
    },
    {
      "cell_type": "markdown",
      "metadata": {
        "id": "ftAr_8KI-_x_"
      },
      "source": [
        " <font size=5>  **Evaluación del modelo 4** </font>"
      ]
    },
    {
      "cell_type": "code",
      "metadata": {
        "colab": {
          "base_uri": "https://localhost:8080/"
        },
        "id": "at7Md7wj_Du6",
        "outputId": "c27d8143-c134-4e2a-eec5-4cb73f8b839f"
      },
      "source": [
        "results4 = model4.evaluate(x_test, y_test, batch_size=64)"
      ],
      "execution_count": null,
      "outputs": [
        {
          "output_type": "stream",
          "text": [
            "157/157 [==============================] - 0s 2ms/step - loss: 0.5332 - accuracy: 0.8273\n"
          ],
          "name": "stdout"
        }
      ]
    },
    {
      "cell_type": "code",
      "metadata": {
        "colab": {
          "base_uri": "https://localhost:8080/",
          "height": 573
        },
        "id": "t5QXce_A_GL5",
        "outputId": "0e5e7db1-6e99-4905-af12-ab18af6c3792"
      },
      "source": [
        "plt.plot(history4.history['accuracy'])\n",
        "plt.plot(history4.history['val_accuracy'])\n",
        "plt.title('Model accuracy')\n",
        "plt.ylabel('Accuracy')\n",
        "plt.xlabel('Epoch')\n",
        "plt.legend(['Accuracy', 'Val_Accuracy'], loc='upper left')\n",
        "plt.show()\n",
        "\n",
        "\n",
        "plt.plot(history4.history['loss'])\n",
        "plt.plot(history4.history['val_loss'])\n",
        "plt.title('Model loss')\n",
        "plt.ylabel('Loss')\n",
        "plt.xlabel('Epoch')\n",
        "plt.legend(['Loss', 'Val_Loss'], loc='upper left')\n",
        "plt.show()"
      ],
      "execution_count": null,
      "outputs": [
        {
          "output_type": "display_data",
          "data": {
            "image/png": "[encoded data removed]",
            "text/plain": [
              "<Figure size 432x288 with 1 Axes>"
            ]
          },
          "metadata": {
            "tags": [],
            "needs_background": "light"
          }
        },
        {
          "output_type": "display_data",
          "data": {
            "image/png": "[encoded data removed]",
            "text/plain": [
              "<Figure size 432x288 with 1 Axes>"
            ]
          },
          "metadata": {
            "tags": [],
            "needs_background": "light"
          }
        }
      ]
    },
    {
      "cell_type": "markdown",
      "metadata": {
        "id": "kduRyQ3N_Pq3"
      },
      "source": [
        "No hemos conseguido mejorar accuracy cambiando la cantidad de épocas.\n",
        "<br/>\n",
        "Haremos un último modelo agregando más capas."
      ]
    },
    {
      "cell_type": "markdown",
      "metadata": {
        "id": "ANbx-ZSQ_qV2"
      },
      "source": [
        " <font size=5>  **Creación del modelo 5** </font>"
      ]
    },
    {
      "cell_type": "code",
      "metadata": {
        "id": "6945jXfm_x1C"
      },
      "source": [
        "#Definimos el modelo 5\n",
        "model5 = keras.Sequential([\n",
        "    Flatten(input_shape=(28, 28)), #Flatten para convertir matrices a vectores \n",
        "    Dense(570, activation='relu'),\n",
        "    Dense(450, activation='relu'),\n",
        "    Dense(320, activation='relu'),\n",
        "    Dense(210, activation='relu'),\n",
        "    Dense(128, activation='relu'),\n",
        "    Dense(10, activation='softmax')\n",
        "])"
      ],
      "execution_count": null,
      "outputs": []
    },
    {
      "cell_type": "code",
      "metadata": {
        "id": "8QVDDjvu_9UJ"
      },
      "source": [
        "#Compilamos\n",
        "model5.compile(optimizer=\"adam\",\n",
        "              loss='sparse_categorical_crossentropy', \n",
        "              metrics=['accuracy'])"
      ],
      "execution_count": null,
      "outputs": []
    },
    {
      "cell_type": "code",
      "metadata": {
        "colab": {
          "base_uri": "https://localhost:8080/"
        },
        "id": "la5GlzoaABs1",
        "outputId": "50f13d80-dc7e-4725-fb13-1c141984eb7a"
      },
      "source": [
        "#Entrenamos \n",
        "history5 = model5.fit(x_train, y_train, epochs=10, batch_size=64, validation_split=0.2)"
      ],
      "execution_count": null,
      "outputs": [
        {
          "output_type": "stream",
          "text": [
            "Epoch 1/10\n",
            "750/750 [==============================] - 12s 16ms/step - loss: 1.5421 - accuracy: 0.7790 - val_loss: 0.5203 - val_accuracy: 0.8334\n",
            "Epoch 2/10\n",
            "750/750 [==============================] - 11s 15ms/step - loss: 0.4364 - accuracy: 0.8429 - val_loss: 0.4570 - val_accuracy: 0.8364\n",
            "Epoch 3/10\n",
            "750/750 [==============================] - 11s 15ms/step - loss: 0.4031 - accuracy: 0.8553 - val_loss: 0.4309 - val_accuracy: 0.8445\n",
            "Epoch 4/10\n",
            "750/750 [==============================] - 11s 15ms/step - loss: 0.3750 - accuracy: 0.8631 - val_loss: 0.4071 - val_accuracy: 0.8573\n",
            "Epoch 5/10\n",
            "750/750 [==============================] - 11s 15ms/step - loss: 0.3635 - accuracy: 0.8682 - val_loss: 0.3842 - val_accuracy: 0.8624\n",
            "Epoch 6/10\n",
            "750/750 [==============================] - 12s 16ms/step - loss: 0.3429 - accuracy: 0.8759 - val_loss: 0.3726 - val_accuracy: 0.8702\n",
            "Epoch 7/10\n",
            "750/750 [==============================] - 12s 16ms/step - loss: 0.3417 - accuracy: 0.8758 - val_loss: 0.3605 - val_accuracy: 0.8723\n",
            "Epoch 8/10\n",
            "750/750 [==============================] - 11s 15ms/step - loss: 0.3287 - accuracy: 0.8799 - val_loss: 0.3524 - val_accuracy: 0.8744\n",
            "Epoch 9/10\n",
            "750/750 [==============================] - 11s 15ms/step - loss: 0.3282 - accuracy: 0.8792 - val_loss: 0.4111 - val_accuracy: 0.8623\n",
            "Epoch 10/10\n",
            "750/750 [==============================] - 11s 15ms/step - loss: 0.3175 - accuracy: 0.8854 - val_loss: 0.3541 - val_accuracy: 0.8823\n"
          ],
          "name": "stdout"
        }
      ]
    },
    {
      "cell_type": "markdown",
      "metadata": {
        "id": "U2QUGnmXAmUd"
      },
      "source": [
        " <font size=5>  **Evaluación del modelo 5** </font>"
      ]
    },
    {
      "cell_type": "code",
      "metadata": {
        "colab": {
          "base_uri": "https://localhost:8080/"
        },
        "id": "iwlVW0k0Ap_m",
        "outputId": "21b4f998-4b54-45c7-caa5-1cdd80e8c2e5"
      },
      "source": [
        "results5 = model5.evaluate(x_test, y_test, batch_size=64)"
      ],
      "execution_count": null,
      "outputs": [
        {
          "output_type": "stream",
          "text": [
            "157/157 [==============================] - 1s 6ms/step - loss: 0.3721 - accuracy: 0.8733\n"
          ],
          "name": "stdout"
        }
      ]
    },
    {
      "cell_type": "code",
      "metadata": {
        "colab": {
          "base_uri": "https://localhost:8080/",
          "height": 573
        },
        "id": "M3ttWWN7Bg3h",
        "outputId": "a1c4495a-58ba-4d91-addf-7680cf01ae4d"
      },
      "source": [
        "plt.plot(history5.history['accuracy'])\n",
        "plt.plot(history5.history['val_accuracy'])\n",
        "plt.title('Model accuracy')\n",
        "plt.ylabel('Accuracy')\n",
        "plt.xlabel('Epoch')\n",
        "plt.legend(['Accuracy', 'Val_Accuracy'], loc='upper left')\n",
        "plt.show()\n",
        "\n",
        "\n",
        "plt.plot(history5.history['loss'])\n",
        "plt.plot(history5.history['val_loss'])\n",
        "plt.title('Model loss')\n",
        "plt.ylabel('Loss')\n",
        "plt.xlabel('Epoch')\n",
        "plt.legend(['Loss', 'Val_Loss'], loc='upper left')\n",
        "plt.show()"
      ],
      "execution_count": null,
      "outputs": [
        {
          "output_type": "display_data",
          "data": {
            "image/png": "[encoded data removed]",
            "text/plain": [
              "<Figure size 432x288 with 1 Axes>"
            ]
          },
          "metadata": {
            "tags": [],
            "needs_background": "light"
          }
        },
        {
          "output_type": "display_data",
          "data": {
            "image/png": "[encoded data removed]",
            "text/plain": [
              "<Figure size 432x288 with 1 Axes>"
            ]
          },
          "metadata": {
            "tags": [],
            "needs_background": "light"
          }
        }
      ]
    },
    {
      "cell_type": "markdown",
      "metadata": {
        "id": "NbXfbLN7CHAT"
      },
      "source": [
        "Este modelo parece mejor a los anteriores.\n",
        "<br/>\n",
        "Quizás podría mejorarse entrenando hasta la 1ra época."
      ]
    }
  ]
}