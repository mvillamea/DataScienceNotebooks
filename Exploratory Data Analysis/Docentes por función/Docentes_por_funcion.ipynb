{
  "nbformat": 4,
  "nbformat_minor": 0,
  "metadata": {
    "colab": {
      "name": "Docentes_por_funcion.ipynb",
      "provenance": []
    },
    "kernelspec": {
      "name": "python3",
      "display_name": "Python 3"
    }
  },
  "cells": [
    {
      "cell_type": "markdown",
      "metadata": {
        "id": "G0V2lA-vps0H"
      },
      "source": [
        "# **Análisis exploratorio docentes por función**"
      ]
    },
    {
      "cell_type": "markdown",
      "metadata": {
        "id": "UXFWTDejqGuQ"
      },
      "source": [
        "Vamos a analizar un data set\n",
        "en el cual están ordenados/as los/as docentes\n",
        "por su función.\n",
        "<br/>\n",
        "El dataset a utilizar fue obtenido de [Datos Argentina](https://https://datos.gob.ar/) y corresponde al año 2014."
      ]
    },
    {
      "cell_type": "code",
      "metadata": {
        "id": "PYSwe9ywqA6p"
      },
      "source": [
        "# Importamos las librerías a utilizar\n",
        "import pandas as pd\n",
        "from seaborn import barplot\n",
        "from seaborn import set\n",
        "import matplotlib.pyplot as plt"
      ],
      "execution_count": 2,
      "outputs": []
    },
    {
      "cell_type": "code",
      "metadata": {
        "id": "WsFItzXdsnkP"
      },
      "source": [
        "# Abrimos el data set, guardado en un xlsx\n",
        "df_funcion = pd.read_excel('docentes_por_funcion.xlsx', sheet_name='Docentes por función')"
      ],
      "execution_count": 3,
      "outputs": []
    },
    {
      "cell_type": "code",
      "metadata": {
        "id": "bxM9kt7usstB"
      },
      "source": [
        "# Creamos una copia para no pisar el df original\n",
        "# Nos quedamos solo con las filas con información relevante\n",
        "copia_df_funcion = df_funcion.iloc[10:90, :] "
      ],
      "execution_count": 4,
      "outputs": []
    },
    {
      "cell_type": "code",
      "metadata": {
        "id": "AbYmrqh1s15c"
      },
      "source": [
        "# Los labels no están como queremos, así que los cambiamos\n",
        "# Primero obtenemos los labels nuevos\n",
        "new_labels = [df_funcion.loc[9][0], df_funcion.loc[9][1], df_funcion.loc[9][2]]"
      ],
      "execution_count": 5,
      "outputs": []
    },
    {
      "cell_type": "code",
      "metadata": {
        "id": "aKqG7rhCs5oL"
      },
      "source": [
        "# Seleccionamos los labels viejos\n",
        "old_labels = copia_df_funcion.columns.values"
      ],
      "execution_count": 6,
      "outputs": []
    },
    {
      "cell_type": "code",
      "metadata": {
        "colab": {
          "base_uri": "https://localhost:8080/"
        },
        "id": "OEpKSPhhs9Ir",
        "outputId": "8de7ed79-5a6e-4f26-efb9-0cdb46a4da20"
      },
      "source": [
        "# Realizamos el cambio\n",
        "copia_df_funcion.rename(columns={old_labels[0]:new_labels[0],\n",
        "                                    old_labels[1]:new_labels[1],\n",
        "                                    old_labels[2]:new_labels[2]},\n",
        "                        inplace=True)"
      ],
      "execution_count": 7,
      "outputs": [
        {
          "output_type": "stream",
          "text": [
            "/usr/local/lib/python3.6/dist-packages/pandas/core/frame.py:4308: SettingWithCopyWarning: \n",
            "A value is trying to be set on a copy of a slice from a DataFrame\n",
            "\n",
            "See the caveats in the documentation: https://pandas.pydata.org/pandas-docs/stable/user_guide/indexing.html#returning-a-view-versus-a-copy\n",
            "  errors=errors,\n"
          ],
          "name": "stderr"
        }
      ]
    },
    {
      "cell_type": "code",
      "metadata": {
        "colab": {
          "base_uri": "https://localhost:8080/",
          "height": 407
        },
        "id": "IMgx7fnjtCif",
        "outputId": "9365c2ac-582d-42a0-e0d3-42f59ab4df0e"
      },
      "source": [
        "# Chequeamos que el cambio efectivamente se haya hecho\n",
        "copia_df_funcion"
      ],
      "execution_count": 8,
      "outputs": [
        {
          "output_type": "execute_result",
          "data": {
            "text/html": [
              "<div>\n",
              "<style scoped>\n",
              "    .dataframe tbody tr th:only-of-type {\n",
              "        vertical-align: middle;\n",
              "    }\n",
              "\n",
              "    .dataframe tbody tr th {\n",
              "        vertical-align: top;\n",
              "    }\n",
              "\n",
              "    .dataframe thead th {\n",
              "        text-align: right;\n",
              "    }\n",
              "</style>\n",
              "<table border=\"1\" class=\"dataframe\">\n",
              "  <thead>\n",
              "    <tr style=\"text-align: right;\">\n",
              "      <th></th>\n",
              "      <th>Provincia</th>\n",
              "      <th>Función</th>\n",
              "      <th>Docentes</th>\n",
              "    </tr>\n",
              "  </thead>\n",
              "  <tbody>\n",
              "    <tr>\n",
              "      <th>10</th>\n",
              "      <td>NaN</td>\n",
              "      <td>Escuelas</td>\n",
              "      <td>NaN</td>\n",
              "    </tr>\n",
              "    <tr>\n",
              "      <th>11</th>\n",
              "      <td>Total país</td>\n",
              "      <td>Apoyo docente</td>\n",
              "      <td>166508</td>\n",
              "    </tr>\n",
              "    <tr>\n",
              "      <th>12</th>\n",
              "      <td>Total país</td>\n",
              "      <td>Direccion/Gestion</td>\n",
              "      <td>94223</td>\n",
              "    </tr>\n",
              "    <tr>\n",
              "      <th>13</th>\n",
              "      <td>Total país</td>\n",
              "      <td>Frente a alumnos</td>\n",
              "      <td>702020</td>\n",
              "    </tr>\n",
              "    <tr>\n",
              "      <th>14</th>\n",
              "      <td>Buenos Aires</td>\n",
              "      <td>Apoyo docente</td>\n",
              "      <td>60817</td>\n",
              "    </tr>\n",
              "    <tr>\n",
              "      <th>...</th>\n",
              "      <td>...</td>\n",
              "      <td>...</td>\n",
              "      <td>...</td>\n",
              "    </tr>\n",
              "    <tr>\n",
              "      <th>81</th>\n",
              "      <td>Tierra del Fuego</td>\n",
              "      <td>Direccion/Gestion</td>\n",
              "      <td>773</td>\n",
              "    </tr>\n",
              "    <tr>\n",
              "      <th>82</th>\n",
              "      <td>Tierra del Fuego</td>\n",
              "      <td>Frente a alumnos</td>\n",
              "      <td>3820</td>\n",
              "    </tr>\n",
              "    <tr>\n",
              "      <th>83</th>\n",
              "      <td>Tucumán</td>\n",
              "      <td>Apoyo docente</td>\n",
              "      <td>4705</td>\n",
              "    </tr>\n",
              "    <tr>\n",
              "      <th>84</th>\n",
              "      <td>Tucumán</td>\n",
              "      <td>Direccion/Gestion</td>\n",
              "      <td>2543</td>\n",
              "    </tr>\n",
              "    <tr>\n",
              "      <th>85</th>\n",
              "      <td>Tucumán</td>\n",
              "      <td>Frente a alumnos</td>\n",
              "      <td>24499</td>\n",
              "    </tr>\n",
              "  </tbody>\n",
              "</table>\n",
              "<p>76 rows × 3 columns</p>\n",
              "</div>"
            ],
            "text/plain": [
              "           Provincia            Función Docentes\n",
              "10               NaN           Escuelas      NaN\n",
              "11        Total país      Apoyo docente   166508\n",
              "12        Total país  Direccion/Gestion    94223\n",
              "13        Total país   Frente a alumnos   702020\n",
              "14      Buenos Aires      Apoyo docente    60817\n",
              "..               ...                ...      ...\n",
              "81  Tierra del Fuego  Direccion/Gestion      773\n",
              "82  Tierra del Fuego   Frente a alumnos     3820\n",
              "83           Tucumán      Apoyo docente     4705\n",
              "84           Tucumán  Direccion/Gestion     2543\n",
              "85           Tucumán   Frente a alumnos    24499\n",
              "\n",
              "[76 rows x 3 columns]"
            ]
          },
          "metadata": {
            "tags": []
          },
          "execution_count": 8
        }
      ]
    },
    {
      "cell_type": "code",
      "metadata": {
        "id": "voBdIneftMmx"
      },
      "source": [
        "# Observamos que la fila que aparece primera no tiene info, la sacamos\n",
        "copia_df_funcion = copia_df_funcion.iloc[1:90, :]"
      ],
      "execution_count": 9,
      "outputs": []
    },
    {
      "cell_type": "code",
      "metadata": {
        "id": "JA5kefJTtQPD"
      },
      "source": [
        "# Reenumeramos los índices\n",
        "copia_df_funcion.index = range(75)"
      ],
      "execution_count": 10,
      "outputs": []
    },
    {
      "cell_type": "code",
      "metadata": {
        "id": "PC-UyL5vtsB7"
      },
      "source": [
        "# Sacamos los datos del total del país para poder comparar entre provincias\n",
        "df_sin_total = copia_df_funcion[copia_df_funcion.Provincia != 'Total país' ]"
      ],
      "execution_count": 11,
      "outputs": []
    },
    {
      "cell_type": "code",
      "metadata": {
        "colab": {
          "base_uri": "https://localhost:8080/",
          "height": 1000
        },
        "id": "_8nhWKZ_tSKw",
        "outputId": "08ba0f85-702e-41eb-990b-14b9ccd19cd6"
      },
      "source": [
        "# Hacemos un barchart horizontal para poder comparar provincia a provincia\n",
        "set(style=\"whitegrid\", rc={'figure.figsize':(30, 40)})\n",
        "fig = barplot(x='Docentes', y='Provincia', hue='Función', data=df_sin_total)\n",
        "plt.title('Cantidad de docentes por provincia y función')\n",
        "plt.ylabel('')\n",
        "plt.xlabel('')\n",
        "plt.yticks(size=8)\n",
        "fig.set_xticks(range(0,240000, 5000))\n",
        "plt.xticks(rotation=90)\n",
        "plt.xticks(size=8)\n",
        "plt.show()"
      ],
      "execution_count": 12,
      "outputs": [
        {
          "output_type": "display_data",
          "data": {
            "image/png": "[encoded data removed]",
            "text/plain": [
              "<Figure size 2160x2880 with 1 Axes>"
            ]
          },
          "metadata": {
            "tags": []
          }
        }
      ]
    },
    {
      "cell_type": "markdown",
      "metadata": {
        "id": "79M2pf1A5lUy"
      },
      "source": [
        "\n",
        "\n",
        "*   En todas las provincias la cantidad de docentes frente a alumnos es mayor a las otras dos categorías.\n",
        "*   En Buenos Aires esta diferencia parece ser muy superior.\n",
        "\n"
      ]
    },
    {
      "cell_type": "markdown",
      "metadata": {
        "id": "hWOIMcG5-g65"
      },
      "source": [
        "Para poder apreciar mejor las diferencias, vamos a transformar los datos en porcentajes."
      ]
    },
    {
      "cell_type": "code",
      "metadata": {
        "id": "wi73CjCF_T-h"
      },
      "source": [
        "# Obtenemos la cantidad total de docentes por provincia\n",
        "copia_sin_total = df_sin_total.copy()\n",
        "agrupados = copia_sin_total.groupby('Provincia', as_index = False).sum()"
      ],
      "execution_count": 24,
      "outputs": []
    },
    {
      "cell_type": "code",
      "metadata": {
        "colab": {
          "base_uri": "https://localhost:8080/"
        },
        "id": "lnR-slF2CLrn",
        "outputId": "9c3a56d9-3e9d-43e4-abe2-43828a82086a"
      },
      "source": [
        "print(agrupados)"
      ],
      "execution_count": 25,
      "outputs": [
        {
          "output_type": "stream",
          "text": [
            "                 Provincia  ... Docentes\n",
            "0             Buenos Aires  ...   326095\n",
            "1                Catamarca  ...    14205\n",
            "2                    Chaco  ...    32102\n",
            "3                   Chubut  ...    12846\n",
            "4   Ciudad de Buenos Aires  ...    81701\n",
            "5               Corrientes  ...    24049\n",
            "6                  Córdoba  ...    83516\n",
            "7               Entre Ríos  ...    35599\n",
            "8                  Formosa  ...    15593\n",
            "9                    Jujuy  ...    19741\n",
            "10                La Pampa  ...    10717\n",
            "11                La Rioja  ...    10765\n",
            "12                 Mendoza  ...    49075\n",
            "13                Misiones  ...    26244\n",
            "14                 Neuquén  ...    16116\n",
            "15               Río Negro  ...    19225\n",
            "16                   Salta  ...    25190\n",
            "17                San Juan  ...    15908\n",
            "18                San Luis  ...     9624\n",
            "19              Santa Cruz  ...    10032\n",
            "20                Santa Fe  ...    69130\n",
            "21     Santiago del Estero  ...    22658\n",
            "22        Tierra del Fuego  ...     6400\n",
            "23                 Tucumán  ...    31747\n",
            "\n",
            "[24 rows x 3 columns]\n"
          ],
          "name": "stdout"
        }
      ]
    },
    {
      "cell_type": "code",
      "metadata": {
        "id": "Vt_aMdzfCSnO"
      },
      "source": [
        "aux_df = agrupados[['Provincia', 'Docentes']]"
      ],
      "execution_count": 27,
      "outputs": []
    },
    {
      "cell_type": "code",
      "metadata": {
        "id": "s4q0Pu4NGQG9"
      },
      "source": [
        "aux_df = aux_df.rename(columns={'Docentes': 'Total_docentes_pcia'})"
      ],
      "execution_count": 40,
      "outputs": []
    },
    {
      "cell_type": "code",
      "metadata": {
        "id": "LbH5ZgweGw0Q"
      },
      "source": [
        "#Agregamos la cantidad total de docentes por provincia al df\n",
        "combined_df=copia_sin_total.merge(aux_df, on='Provincia', how='left') "
      ],
      "execution_count": 41,
      "outputs": []
    },
    {
      "cell_type": "code",
      "metadata": {
        "colab": {
          "base_uri": "https://localhost:8080/",
          "height": 407
        },
        "id": "9WAvafhuIbva",
        "outputId": "72d3ea50-402c-4789-9f36-2e39c23f1aa3"
      },
      "source": [
        "combined_df"
      ],
      "execution_count": 42,
      "outputs": [
        {
          "output_type": "execute_result",
          "data": {
            "text/html": [
              "<div>\n",
              "<style scoped>\n",
              "    .dataframe tbody tr th:only-of-type {\n",
              "        vertical-align: middle;\n",
              "    }\n",
              "\n",
              "    .dataframe tbody tr th {\n",
              "        vertical-align: top;\n",
              "    }\n",
              "\n",
              "    .dataframe thead th {\n",
              "        text-align: right;\n",
              "    }\n",
              "</style>\n",
              "<table border=\"1\" class=\"dataframe\">\n",
              "  <thead>\n",
              "    <tr style=\"text-align: right;\">\n",
              "      <th></th>\n",
              "      <th>Provincia</th>\n",
              "      <th>Función</th>\n",
              "      <th>Docentes_x</th>\n",
              "      <th>Docentes_y</th>\n",
              "      <th>Total_docentes_pcia</th>\n",
              "    </tr>\n",
              "  </thead>\n",
              "  <tbody>\n",
              "    <tr>\n",
              "      <th>0</th>\n",
              "      <td>Buenos Aires</td>\n",
              "      <td>Apoyo docente</td>\n",
              "      <td>60817</td>\n",
              "      <td>326095</td>\n",
              "      <td>326095</td>\n",
              "    </tr>\n",
              "    <tr>\n",
              "      <th>1</th>\n",
              "      <td>Buenos Aires</td>\n",
              "      <td>Direccion/Gestion</td>\n",
              "      <td>32917</td>\n",
              "      <td>326095</td>\n",
              "      <td>326095</td>\n",
              "    </tr>\n",
              "    <tr>\n",
              "      <th>2</th>\n",
              "      <td>Buenos Aires</td>\n",
              "      <td>Frente a alumnos</td>\n",
              "      <td>232361</td>\n",
              "      <td>326095</td>\n",
              "      <td>326095</td>\n",
              "    </tr>\n",
              "    <tr>\n",
              "      <th>3</th>\n",
              "      <td>Catamarca</td>\n",
              "      <td>Apoyo docente</td>\n",
              "      <td>2297</td>\n",
              "      <td>14205</td>\n",
              "      <td>14205</td>\n",
              "    </tr>\n",
              "    <tr>\n",
              "      <th>4</th>\n",
              "      <td>Catamarca</td>\n",
              "      <td>Direccion/Gestion</td>\n",
              "      <td>1344</td>\n",
              "      <td>14205</td>\n",
              "      <td>14205</td>\n",
              "    </tr>\n",
              "    <tr>\n",
              "      <th>...</th>\n",
              "      <td>...</td>\n",
              "      <td>...</td>\n",
              "      <td>...</td>\n",
              "      <td>...</td>\n",
              "      <td>...</td>\n",
              "    </tr>\n",
              "    <tr>\n",
              "      <th>67</th>\n",
              "      <td>Tierra del Fuego</td>\n",
              "      <td>Direccion/Gestion</td>\n",
              "      <td>773</td>\n",
              "      <td>6400</td>\n",
              "      <td>6400</td>\n",
              "    </tr>\n",
              "    <tr>\n",
              "      <th>68</th>\n",
              "      <td>Tierra del Fuego</td>\n",
              "      <td>Frente a alumnos</td>\n",
              "      <td>3820</td>\n",
              "      <td>6400</td>\n",
              "      <td>6400</td>\n",
              "    </tr>\n",
              "    <tr>\n",
              "      <th>69</th>\n",
              "      <td>Tucumán</td>\n",
              "      <td>Apoyo docente</td>\n",
              "      <td>4705</td>\n",
              "      <td>31747</td>\n",
              "      <td>31747</td>\n",
              "    </tr>\n",
              "    <tr>\n",
              "      <th>70</th>\n",
              "      <td>Tucumán</td>\n",
              "      <td>Direccion/Gestion</td>\n",
              "      <td>2543</td>\n",
              "      <td>31747</td>\n",
              "      <td>31747</td>\n",
              "    </tr>\n",
              "    <tr>\n",
              "      <th>71</th>\n",
              "      <td>Tucumán</td>\n",
              "      <td>Frente a alumnos</td>\n",
              "      <td>24499</td>\n",
              "      <td>31747</td>\n",
              "      <td>31747</td>\n",
              "    </tr>\n",
              "  </tbody>\n",
              "</table>\n",
              "<p>72 rows × 5 columns</p>\n",
              "</div>"
            ],
            "text/plain": [
              "           Provincia            Función  ... Docentes_y  Total_docentes_pcia\n",
              "0       Buenos Aires      Apoyo docente  ...     326095               326095\n",
              "1       Buenos Aires  Direccion/Gestion  ...     326095               326095\n",
              "2       Buenos Aires   Frente a alumnos  ...     326095               326095\n",
              "3          Catamarca      Apoyo docente  ...      14205                14205\n",
              "4          Catamarca  Direccion/Gestion  ...      14205                14205\n",
              "..               ...                ...  ...        ...                  ...\n",
              "67  Tierra del Fuego  Direccion/Gestion  ...       6400                 6400\n",
              "68  Tierra del Fuego   Frente a alumnos  ...       6400                 6400\n",
              "69           Tucumán      Apoyo docente  ...      31747                31747\n",
              "70           Tucumán  Direccion/Gestion  ...      31747                31747\n",
              "71           Tucumán   Frente a alumnos  ...      31747                31747\n",
              "\n",
              "[72 rows x 5 columns]"
            ]
          },
          "metadata": {
            "tags": []
          },
          "execution_count": 42
        }
      ]
    },
    {
      "cell_type": "code",
      "metadata": {
        "id": "h-456ZmeTuLS"
      },
      "source": [
        "final_df = combined_df.drop('Docentes_y', axis=1)"
      ],
      "execution_count": 44,
      "outputs": []
    },
    {
      "cell_type": "code",
      "metadata": {
        "colab": {
          "base_uri": "https://localhost:8080/",
          "height": 407
        },
        "id": "bjjUex8ST9i4",
        "outputId": "eda68511-4a64-4a9c-bc70-02632bbd5861"
      },
      "source": [
        "final_df"
      ],
      "execution_count": 45,
      "outputs": [
        {
          "output_type": "execute_result",
          "data": {
            "text/html": [
              "<div>\n",
              "<style scoped>\n",
              "    .dataframe tbody tr th:only-of-type {\n",
              "        vertical-align: middle;\n",
              "    }\n",
              "\n",
              "    .dataframe tbody tr th {\n",
              "        vertical-align: top;\n",
              "    }\n",
              "\n",
              "    .dataframe thead th {\n",
              "        text-align: right;\n",
              "    }\n",
              "</style>\n",
              "<table border=\"1\" class=\"dataframe\">\n",
              "  <thead>\n",
              "    <tr style=\"text-align: right;\">\n",
              "      <th></th>\n",
              "      <th>Provincia</th>\n",
              "      <th>Función</th>\n",
              "      <th>Docentes_x</th>\n",
              "      <th>Total_docentes_pcia</th>\n",
              "    </tr>\n",
              "  </thead>\n",
              "  <tbody>\n",
              "    <tr>\n",
              "      <th>0</th>\n",
              "      <td>Buenos Aires</td>\n",
              "      <td>Apoyo docente</td>\n",
              "      <td>60817</td>\n",
              "      <td>326095</td>\n",
              "    </tr>\n",
              "    <tr>\n",
              "      <th>1</th>\n",
              "      <td>Buenos Aires</td>\n",
              "      <td>Direccion/Gestion</td>\n",
              "      <td>32917</td>\n",
              "      <td>326095</td>\n",
              "    </tr>\n",
              "    <tr>\n",
              "      <th>2</th>\n",
              "      <td>Buenos Aires</td>\n",
              "      <td>Frente a alumnos</td>\n",
              "      <td>232361</td>\n",
              "      <td>326095</td>\n",
              "    </tr>\n",
              "    <tr>\n",
              "      <th>3</th>\n",
              "      <td>Catamarca</td>\n",
              "      <td>Apoyo docente</td>\n",
              "      <td>2297</td>\n",
              "      <td>14205</td>\n",
              "    </tr>\n",
              "    <tr>\n",
              "      <th>4</th>\n",
              "      <td>Catamarca</td>\n",
              "      <td>Direccion/Gestion</td>\n",
              "      <td>1344</td>\n",
              "      <td>14205</td>\n",
              "    </tr>\n",
              "    <tr>\n",
              "      <th>...</th>\n",
              "      <td>...</td>\n",
              "      <td>...</td>\n",
              "      <td>...</td>\n",
              "      <td>...</td>\n",
              "    </tr>\n",
              "    <tr>\n",
              "      <th>67</th>\n",
              "      <td>Tierra del Fuego</td>\n",
              "      <td>Direccion/Gestion</td>\n",
              "      <td>773</td>\n",
              "      <td>6400</td>\n",
              "    </tr>\n",
              "    <tr>\n",
              "      <th>68</th>\n",
              "      <td>Tierra del Fuego</td>\n",
              "      <td>Frente a alumnos</td>\n",
              "      <td>3820</td>\n",
              "      <td>6400</td>\n",
              "    </tr>\n",
              "    <tr>\n",
              "      <th>69</th>\n",
              "      <td>Tucumán</td>\n",
              "      <td>Apoyo docente</td>\n",
              "      <td>4705</td>\n",
              "      <td>31747</td>\n",
              "    </tr>\n",
              "    <tr>\n",
              "      <th>70</th>\n",
              "      <td>Tucumán</td>\n",
              "      <td>Direccion/Gestion</td>\n",
              "      <td>2543</td>\n",
              "      <td>31747</td>\n",
              "    </tr>\n",
              "    <tr>\n",
              "      <th>71</th>\n",
              "      <td>Tucumán</td>\n",
              "      <td>Frente a alumnos</td>\n",
              "      <td>24499</td>\n",
              "      <td>31747</td>\n",
              "    </tr>\n",
              "  </tbody>\n",
              "</table>\n",
              "<p>72 rows × 4 columns</p>\n",
              "</div>"
            ],
            "text/plain": [
              "           Provincia            Función Docentes_x  Total_docentes_pcia\n",
              "0       Buenos Aires      Apoyo docente      60817               326095\n",
              "1       Buenos Aires  Direccion/Gestion      32917               326095\n",
              "2       Buenos Aires   Frente a alumnos     232361               326095\n",
              "3          Catamarca      Apoyo docente       2297                14205\n",
              "4          Catamarca  Direccion/Gestion       1344                14205\n",
              "..               ...                ...        ...                  ...\n",
              "67  Tierra del Fuego  Direccion/Gestion        773                 6400\n",
              "68  Tierra del Fuego   Frente a alumnos       3820                 6400\n",
              "69           Tucumán      Apoyo docente       4705                31747\n",
              "70           Tucumán  Direccion/Gestion       2543                31747\n",
              "71           Tucumán   Frente a alumnos      24499                31747\n",
              "\n",
              "[72 rows x 4 columns]"
            ]
          },
          "metadata": {
            "tags": []
          },
          "execution_count": 45
        }
      ]
    },
    {
      "cell_type": "code",
      "metadata": {
        "id": "cgrlczP0UL6j"
      },
      "source": [
        "final_df = final_df.rename(columns={'Docentes_x': 'Docentes_funcion'})"
      ],
      "execution_count": 46,
      "outputs": []
    },
    {
      "cell_type": "code",
      "metadata": {
        "colab": {
          "base_uri": "https://localhost:8080/",
          "height": 407
        },
        "id": "TM7-Il8GUU_C",
        "outputId": "1d8a3a31-9fb3-496a-9e52-142167afd887"
      },
      "source": [
        "final_df"
      ],
      "execution_count": 47,
      "outputs": [
        {
          "output_type": "execute_result",
          "data": {
            "text/html": [
              "<div>\n",
              "<style scoped>\n",
              "    .dataframe tbody tr th:only-of-type {\n",
              "        vertical-align: middle;\n",
              "    }\n",
              "\n",
              "    .dataframe tbody tr th {\n",
              "        vertical-align: top;\n",
              "    }\n",
              "\n",
              "    .dataframe thead th {\n",
              "        text-align: right;\n",
              "    }\n",
              "</style>\n",
              "<table border=\"1\" class=\"dataframe\">\n",
              "  <thead>\n",
              "    <tr style=\"text-align: right;\">\n",
              "      <th></th>\n",
              "      <th>Provincia</th>\n",
              "      <th>Función</th>\n",
              "      <th>Docentes_funcion</th>\n",
              "      <th>Total_docentes_pcia</th>\n",
              "    </tr>\n",
              "  </thead>\n",
              "  <tbody>\n",
              "    <tr>\n",
              "      <th>0</th>\n",
              "      <td>Buenos Aires</td>\n",
              "      <td>Apoyo docente</td>\n",
              "      <td>60817</td>\n",
              "      <td>326095</td>\n",
              "    </tr>\n",
              "    <tr>\n",
              "      <th>1</th>\n",
              "      <td>Buenos Aires</td>\n",
              "      <td>Direccion/Gestion</td>\n",
              "      <td>32917</td>\n",
              "      <td>326095</td>\n",
              "    </tr>\n",
              "    <tr>\n",
              "      <th>2</th>\n",
              "      <td>Buenos Aires</td>\n",
              "      <td>Frente a alumnos</td>\n",
              "      <td>232361</td>\n",
              "      <td>326095</td>\n",
              "    </tr>\n",
              "    <tr>\n",
              "      <th>3</th>\n",
              "      <td>Catamarca</td>\n",
              "      <td>Apoyo docente</td>\n",
              "      <td>2297</td>\n",
              "      <td>14205</td>\n",
              "    </tr>\n",
              "    <tr>\n",
              "      <th>4</th>\n",
              "      <td>Catamarca</td>\n",
              "      <td>Direccion/Gestion</td>\n",
              "      <td>1344</td>\n",
              "      <td>14205</td>\n",
              "    </tr>\n",
              "    <tr>\n",
              "      <th>...</th>\n",
              "      <td>...</td>\n",
              "      <td>...</td>\n",
              "      <td>...</td>\n",
              "      <td>...</td>\n",
              "    </tr>\n",
              "    <tr>\n",
              "      <th>67</th>\n",
              "      <td>Tierra del Fuego</td>\n",
              "      <td>Direccion/Gestion</td>\n",
              "      <td>773</td>\n",
              "      <td>6400</td>\n",
              "    </tr>\n",
              "    <tr>\n",
              "      <th>68</th>\n",
              "      <td>Tierra del Fuego</td>\n",
              "      <td>Frente a alumnos</td>\n",
              "      <td>3820</td>\n",
              "      <td>6400</td>\n",
              "    </tr>\n",
              "    <tr>\n",
              "      <th>69</th>\n",
              "      <td>Tucumán</td>\n",
              "      <td>Apoyo docente</td>\n",
              "      <td>4705</td>\n",
              "      <td>31747</td>\n",
              "    </tr>\n",
              "    <tr>\n",
              "      <th>70</th>\n",
              "      <td>Tucumán</td>\n",
              "      <td>Direccion/Gestion</td>\n",
              "      <td>2543</td>\n",
              "      <td>31747</td>\n",
              "    </tr>\n",
              "    <tr>\n",
              "      <th>71</th>\n",
              "      <td>Tucumán</td>\n",
              "      <td>Frente a alumnos</td>\n",
              "      <td>24499</td>\n",
              "      <td>31747</td>\n",
              "    </tr>\n",
              "  </tbody>\n",
              "</table>\n",
              "<p>72 rows × 4 columns</p>\n",
              "</div>"
            ],
            "text/plain": [
              "           Provincia            Función Docentes_funcion  Total_docentes_pcia\n",
              "0       Buenos Aires      Apoyo docente            60817               326095\n",
              "1       Buenos Aires  Direccion/Gestion            32917               326095\n",
              "2       Buenos Aires   Frente a alumnos           232361               326095\n",
              "3          Catamarca      Apoyo docente             2297                14205\n",
              "4          Catamarca  Direccion/Gestion             1344                14205\n",
              "..               ...                ...              ...                  ...\n",
              "67  Tierra del Fuego  Direccion/Gestion              773                 6400\n",
              "68  Tierra del Fuego   Frente a alumnos             3820                 6400\n",
              "69           Tucumán      Apoyo docente             4705                31747\n",
              "70           Tucumán  Direccion/Gestion             2543                31747\n",
              "71           Tucumán   Frente a alumnos            24499                31747\n",
              "\n",
              "[72 rows x 4 columns]"
            ]
          },
          "metadata": {
            "tags": []
          },
          "execution_count": 47
        }
      ]
    },
    {
      "cell_type": "code",
      "metadata": {
        "id": "kQJfvrfGVj1B"
      },
      "source": [
        "#Cambiamos los tipos de las columnas a int\n",
        "final_df = final_df.astype({\"Docentes_funcion\": int, \"Total_docentes_pcia\": int})"
      ],
      "execution_count": 53,
      "outputs": []
    },
    {
      "cell_type": "code",
      "metadata": {
        "id": "PpzDT0mhUYsz"
      },
      "source": [
        "#Calculamos los porcentajes por provincia\n",
        "final_df.eval('Porcentajes_por_pcia = (Docentes_funcion/Total_docentes_pcia)*100', inplace=True)"
      ],
      "execution_count": 54,
      "outputs": []
    },
    {
      "cell_type": "code",
      "metadata": {
        "colab": {
          "base_uri": "https://localhost:8080/",
          "height": 407
        },
        "id": "k1tFtx2eWCbL",
        "outputId": "f00079cb-53cd-439d-a0cc-6daadfffde6d"
      },
      "source": [
        "final_df"
      ],
      "execution_count": 55,
      "outputs": [
        {
          "output_type": "execute_result",
          "data": {
            "text/html": [
              "<div>\n",
              "<style scoped>\n",
              "    .dataframe tbody tr th:only-of-type {\n",
              "        vertical-align: middle;\n",
              "    }\n",
              "\n",
              "    .dataframe tbody tr th {\n",
              "        vertical-align: top;\n",
              "    }\n",
              "\n",
              "    .dataframe thead th {\n",
              "        text-align: right;\n",
              "    }\n",
              "</style>\n",
              "<table border=\"1\" class=\"dataframe\">\n",
              "  <thead>\n",
              "    <tr style=\"text-align: right;\">\n",
              "      <th></th>\n",
              "      <th>Provincia</th>\n",
              "      <th>Función</th>\n",
              "      <th>Docentes_funcion</th>\n",
              "      <th>Total_docentes_pcia</th>\n",
              "      <th>Porcentajes_por_pcia</th>\n",
              "    </tr>\n",
              "  </thead>\n",
              "  <tbody>\n",
              "    <tr>\n",
              "      <th>0</th>\n",
              "      <td>Buenos Aires</td>\n",
              "      <td>Apoyo docente</td>\n",
              "      <td>60817</td>\n",
              "      <td>326095</td>\n",
              "      <td>18.650087</td>\n",
              "    </tr>\n",
              "    <tr>\n",
              "      <th>1</th>\n",
              "      <td>Buenos Aires</td>\n",
              "      <td>Direccion/Gestion</td>\n",
              "      <td>32917</td>\n",
              "      <td>326095</td>\n",
              "      <td>10.094298</td>\n",
              "    </tr>\n",
              "    <tr>\n",
              "      <th>2</th>\n",
              "      <td>Buenos Aires</td>\n",
              "      <td>Frente a alumnos</td>\n",
              "      <td>232361</td>\n",
              "      <td>326095</td>\n",
              "      <td>71.255616</td>\n",
              "    </tr>\n",
              "    <tr>\n",
              "      <th>3</th>\n",
              "      <td>Catamarca</td>\n",
              "      <td>Apoyo docente</td>\n",
              "      <td>2297</td>\n",
              "      <td>14205</td>\n",
              "      <td>16.170363</td>\n",
              "    </tr>\n",
              "    <tr>\n",
              "      <th>4</th>\n",
              "      <td>Catamarca</td>\n",
              "      <td>Direccion/Gestion</td>\n",
              "      <td>1344</td>\n",
              "      <td>14205</td>\n",
              "      <td>9.461457</td>\n",
              "    </tr>\n",
              "    <tr>\n",
              "      <th>...</th>\n",
              "      <td>...</td>\n",
              "      <td>...</td>\n",
              "      <td>...</td>\n",
              "      <td>...</td>\n",
              "      <td>...</td>\n",
              "    </tr>\n",
              "    <tr>\n",
              "      <th>67</th>\n",
              "      <td>Tierra del Fuego</td>\n",
              "      <td>Direccion/Gestion</td>\n",
              "      <td>773</td>\n",
              "      <td>6400</td>\n",
              "      <td>12.078125</td>\n",
              "    </tr>\n",
              "    <tr>\n",
              "      <th>68</th>\n",
              "      <td>Tierra del Fuego</td>\n",
              "      <td>Frente a alumnos</td>\n",
              "      <td>3820</td>\n",
              "      <td>6400</td>\n",
              "      <td>59.687500</td>\n",
              "    </tr>\n",
              "    <tr>\n",
              "      <th>69</th>\n",
              "      <td>Tucumán</td>\n",
              "      <td>Apoyo docente</td>\n",
              "      <td>4705</td>\n",
              "      <td>31747</td>\n",
              "      <td>14.820298</td>\n",
              "    </tr>\n",
              "    <tr>\n",
              "      <th>70</th>\n",
              "      <td>Tucumán</td>\n",
              "      <td>Direccion/Gestion</td>\n",
              "      <td>2543</td>\n",
              "      <td>31747</td>\n",
              "      <td>8.010206</td>\n",
              "    </tr>\n",
              "    <tr>\n",
              "      <th>71</th>\n",
              "      <td>Tucumán</td>\n",
              "      <td>Frente a alumnos</td>\n",
              "      <td>24499</td>\n",
              "      <td>31747</td>\n",
              "      <td>77.169496</td>\n",
              "    </tr>\n",
              "  </tbody>\n",
              "</table>\n",
              "<p>72 rows × 5 columns</p>\n",
              "</div>"
            ],
            "text/plain": [
              "           Provincia  ... Porcentajes_por_pcia\n",
              "0       Buenos Aires  ...            18.650087\n",
              "1       Buenos Aires  ...            10.094298\n",
              "2       Buenos Aires  ...            71.255616\n",
              "3          Catamarca  ...            16.170363\n",
              "4          Catamarca  ...             9.461457\n",
              "..               ...  ...                  ...\n",
              "67  Tierra del Fuego  ...            12.078125\n",
              "68  Tierra del Fuego  ...            59.687500\n",
              "69           Tucumán  ...            14.820298\n",
              "70           Tucumán  ...             8.010206\n",
              "71           Tucumán  ...            77.169496\n",
              "\n",
              "[72 rows x 5 columns]"
            ]
          },
          "metadata": {
            "tags": []
          },
          "execution_count": 55
        }
      ]
    },
    {
      "cell_type": "code",
      "metadata": {
        "colab": {
          "base_uri": "https://localhost:8080/",
          "height": 1000
        },
        "id": "FChYcR3CWKMk",
        "outputId": "52817aa8-cf99-4836-8916-e6cc805bf205"
      },
      "source": [
        "# Hacemos un barchart horizontal para poder comparar provincia a provincia\n",
        "set(style=\"whitegrid\", rc={'figure.figsize':(30, 40)})\n",
        "fig = barplot(x='Porcentajes_por_pcia', y='Provincia', hue='Función', data=final_df)\n",
        "plt.title('Proporción de docentes en cada función por provincia')\n",
        "plt.ylabel('')\n",
        "plt.xlabel('')\n",
        "plt.yticks(size=12)\n",
        "fig.set_xticks(range(0,100, 10))\n",
        "plt.xticks(rotation=90)\n",
        "plt.xticks(size=12)\n",
        "plt.show()"
      ],
      "execution_count": 58,
      "outputs": [
        {
          "output_type": "display_data",
          "data": {
            "image/png": "[encoded data removed]",
            "text/plain": [
              "<Figure size 2160x2880 with 1 Axes>"
            ]
          },
          "metadata": {
            "tags": []
          }
        }
      ]
    },
    {
      "cell_type": "markdown",
      "metadata": {
        "id": "tQJ7vrC9XKx8"
      },
      "source": [
        "\n",
        "\n",
        "*   En todas las provincias más del 50% de docentes ocupan puestos frente a alumnos.\n",
        "*   La provincia con mayor porcentaje de puestos frente a alumnos es San Luis.\n",
        "\n",
        "*   Las provincias con mayores porcentajes en puestos de apoyo docente son Tierra del Fuego y Santa Cruz.\n",
        "*   San Luis es la provincia con el menor porcentaje en dirección/gestión.\n",
        "\n",
        "\n",
        "\n"
      ]
    }
  ]
}